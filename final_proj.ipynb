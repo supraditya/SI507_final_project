{
 "cells": [
  {
   "cell_type": "code",
   "execution_count": null,
   "metadata": {},
   "outputs": [],
   "source": [
    "import requests\n",
    "import json as JSON\n",
    "from requests.auth import HTTPBasicAuth"
   ]
  },
  {
   "cell_type": "code",
   "execution_count": null,
   "metadata": {},
   "outputs": [],
   "source": [
    "def yesNoValidator(prompt):\n",
    "    #TODO: Add docstring\n",
    "    yes_prompts=['yes', 'y', 'sure', 'yep']\n",
    "    no_prompts=['no', 'n', 'nah', 'nope']\n",
    "    if prompt.lower() in yes_prompts:\n",
    "        return True\n",
    "    elif prompt.lower() in no_prompts:\n",
    "        return False\n",
    "    else:\n",
    "        print(\"Please enter either yes or no!\")\n",
    "        return None"
   ]
  },
  {
   "cell_type": "code",
   "execution_count": 5,
   "metadata": {},
   "outputs": [
    {
     "name": "stdout",
     "output_type": "stream",
     "text": [
      "Welcome to repository visualizer!\n",
      "=================================\n",
      "Fetched data: {'message': 'Not Found', 'documentation_url': 'https://docs.github.com/rest/commits/commits#list-commits'}\n"
     ]
    }
   ],
   "source": [
    "#This is the driver function\n",
    "def main():\n",
    "    #TODO: Add docstring\n",
    "    print(\"Welcome to repository visualizer!\")\n",
    "    print(\"=================================\")\n",
    "    username=input(\"Please enter the repository owner's Github Username: \")\n",
    "    repo_name=input(\"Please enter the repository's name: \")\n",
    "    url=f\"https://api.github.com/repos/{username}/{repo_name}/commits\"\n",
    "    token=\"\"\n",
    "    while True:\n",
    "        is_private=input(\"Is the repository private? (Y/N): \")\n",
    "        user_response=yesNoValidator(is_private.lower())\n",
    "        if user_response==True:\n",
    "            token=input(\"Enter the personal access token for this owner: \")\n",
    "            token=\"Bearer \"+token\n",
    "            break\n",
    "        elif user_response==False:\n",
    "            break\n",
    "    headers = {\n",
    "        'x-rapidapi-host': \"api.github.com\",\n",
    "        'Authorization': token\n",
    "        }\n",
    "    response=requests.request(\"GET\", url, headers=headers)\n",
    "    fetched_data=JSON.loads(response.text)\n",
    "    print(f\"Fetched data: {fetched_data}\")\n",
    "main()\n"
   ]
  }
 ],
 "metadata": {
  "kernelspec": {
   "display_name": "Python 3.10.7 64-bit",
   "language": "python",
   "name": "python3"
  },
  "language_info": {
   "codemirror_mode": {
    "name": "ipython",
    "version": 3
   },
   "file_extension": ".py",
   "mimetype": "text/x-python",
   "name": "python",
   "nbconvert_exporter": "python",
   "pygments_lexer": "ipython3",
   "version": "3.10.7"
  },
  "orig_nbformat": 4,
  "vscode": {
   "interpreter": {
    "hash": "3075602fe07dfbfad68e36544cfcd65990cacb611b1ced0126e3839888a1e43b"
   }
  }
 },
 "nbformat": 4,
 "nbformat_minor": 2
}
